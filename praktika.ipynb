{
 "cells": [
  {
   "cell_type": "code",
   "execution_count": 91,
   "metadata": {
    "pycharm": {
     "name": "#%%\n"
    }
   },
   "outputs": [],
   "source": [
    "import pandas as pd\n",
    "import matplotlib as mpl\n",
    "import datetime as dt\n",
    "\n",
    "%matplotlib inline"
   ]
  },
  {
   "cell_type": "code",
   "execution_count": 2,
   "metadata": {},
   "outputs": [
    {
     "data": {
      "text/plain": "  numbers_order  user_id          order_time            contragent      cost  \\\n0          2430      802 2020-03-30 14:02:00  Анонимный покупатель  11480.54   \n1          2431       76 2020-03-30 14:14:00       Ишбулатова Рина   3485.35   \n2          2432       60 2020-03-30 14:29:00             Екатерина   5354.98   \n3          2435      312 2020-03-30 14:41:00             Екатерина   3126.84   \n4          2437      857 2020-03-30 14:43:00  Анонимный покупатель   6252.00   \n\n        status  \n0    Доставлен  \n1    Доставлен  \n2    Доставлен  \n3    Доставлен  \n4  Подтвержден  ",
      "text/html": "<div>\n<style scoped>\n    .dataframe tbody tr th:only-of-type {\n        vertical-align: middle;\n    }\n\n    .dataframe tbody tr th {\n        vertical-align: top;\n    }\n\n    .dataframe thead th {\n        text-align: right;\n    }\n</style>\n<table border=\"1\" class=\"dataframe\">\n  <thead>\n    <tr style=\"text-align: right;\">\n      <th></th>\n      <th>numbers_order</th>\n      <th>user_id</th>\n      <th>order_time</th>\n      <th>contragent</th>\n      <th>cost</th>\n      <th>status</th>\n    </tr>\n  </thead>\n  <tbody>\n    <tr>\n      <th>0</th>\n      <td>2430</td>\n      <td>802</td>\n      <td>2020-03-30 14:02:00</td>\n      <td>Анонимный покупатель</td>\n      <td>11480.54</td>\n      <td>Доставлен</td>\n    </tr>\n    <tr>\n      <th>1</th>\n      <td>2431</td>\n      <td>76</td>\n      <td>2020-03-30 14:14:00</td>\n      <td>Ишбулатова Рина</td>\n      <td>3485.35</td>\n      <td>Доставлен</td>\n    </tr>\n    <tr>\n      <th>2</th>\n      <td>2432</td>\n      <td>60</td>\n      <td>2020-03-30 14:29:00</td>\n      <td>Екатерина</td>\n      <td>5354.98</td>\n      <td>Доставлен</td>\n    </tr>\n    <tr>\n      <th>3</th>\n      <td>2435</td>\n      <td>312</td>\n      <td>2020-03-30 14:41:00</td>\n      <td>Екатерина</td>\n      <td>3126.84</td>\n      <td>Доставлен</td>\n    </tr>\n    <tr>\n      <th>4</th>\n      <td>2437</td>\n      <td>857</td>\n      <td>2020-03-30 14:43:00</td>\n      <td>Анонимный покупатель</td>\n      <td>6252.00</td>\n      <td>Подтвержден</td>\n    </tr>\n  </tbody>\n</table>\n</div>"
     },
     "execution_count": 2,
     "metadata": {},
     "output_type": "execute_result"
    }
   ],
   "source": [
    "data = pd.read_csv('dataset.csv', index_col='Unnamed: 0')\n",
    "data['order_time'] = pd.to_datetime(data['order_time'])\n",
    "\n",
    "data.head()"
   ]
  },
  {
   "cell_type": "code",
   "execution_count": 3,
   "metadata": {},
   "outputs": [
    {
     "name": "stdout",
     "output_type": "stream",
     "text": [
      "first order: \n",
      "2020-03-30 14:02:00\n",
      "last oreder: \n",
      "2020-07-01 23:42:56\n",
      "delta days: \n",
      "93\n"
     ]
    }
   ],
   "source": [
    "first = pd.to_datetime(data['order_time'].min())\n",
    "last = pd.to_datetime(data['order_time'].max())\n",
    "delta = (last - first).days\n",
    "print(\n",
    "    'first order: ' , data['order_time'].min(),\n",
    "    'last oreder: ' , data['order_time'].max(),\n",
    "    'delta days: ', delta,\n",
    "    sep='\\n'\n",
    ")"
   ]
  },
  {
   "cell_type": "markdown",
   "metadata": {
    "pycharm": {
     "name": "#%% md\n"
    }
   },
   "source": [
    "Потрачено каждым пользователем и количество заказов с каждого пользователя"
   ]
  },
  {
   "cell_type": "code",
   "execution_count": 73,
   "outputs": [
    {
     "data": {
      "text/plain": "               sum  count\nuser_id                  \n105      201512.23     12\n69       161489.74      6\n892      131886.75      6\n1182     124977.90     11\n1022     120884.31      4\n...            ...    ...\n150        1111.38      1\n58            0.01      1\n421           0.01      1\n410           0.00      1\n474           0.00      1\n\n[1548 rows x 2 columns]",
      "text/html": "<div>\n<style scoped>\n    .dataframe tbody tr th:only-of-type {\n        vertical-align: middle;\n    }\n\n    .dataframe tbody tr th {\n        vertical-align: top;\n    }\n\n    .dataframe thead th {\n        text-align: right;\n    }\n</style>\n<table border=\"1\" class=\"dataframe\">\n  <thead>\n    <tr style=\"text-align: right;\">\n      <th></th>\n      <th>sum</th>\n      <th>count</th>\n    </tr>\n    <tr>\n      <th>user_id</th>\n      <th></th>\n      <th></th>\n    </tr>\n  </thead>\n  <tbody>\n    <tr>\n      <th>105</th>\n      <td>201512.23</td>\n      <td>12</td>\n    </tr>\n    <tr>\n      <th>69</th>\n      <td>161489.74</td>\n      <td>6</td>\n    </tr>\n    <tr>\n      <th>892</th>\n      <td>131886.75</td>\n      <td>6</td>\n    </tr>\n    <tr>\n      <th>1182</th>\n      <td>124977.90</td>\n      <td>11</td>\n    </tr>\n    <tr>\n      <th>1022</th>\n      <td>120884.31</td>\n      <td>4</td>\n    </tr>\n    <tr>\n      <th>...</th>\n      <td>...</td>\n      <td>...</td>\n    </tr>\n    <tr>\n      <th>150</th>\n      <td>1111.38</td>\n      <td>1</td>\n    </tr>\n    <tr>\n      <th>58</th>\n      <td>0.01</td>\n      <td>1</td>\n    </tr>\n    <tr>\n      <th>421</th>\n      <td>0.01</td>\n      <td>1</td>\n    </tr>\n    <tr>\n      <th>410</th>\n      <td>0.00</td>\n      <td>1</td>\n    </tr>\n    <tr>\n      <th>474</th>\n      <td>0.00</td>\n      <td>1</td>\n    </tr>\n  </tbody>\n</table>\n<p>1548 rows × 2 columns</p>\n</div>"
     },
     "execution_count": 73,
     "metadata": {},
     "output_type": "execute_result"
    }
   ],
   "source": [
    "users_purchases = data.groupby('user_id')['cost'].agg([sum, 'count'])\n",
    "users_purchases.sort_values(by='sum', ascending=False)"
   ],
   "metadata": {
    "collapsed": false,
    "pycharm": {
     "name": "#%%\n"
    }
   }
  },
  {
   "cell_type": "markdown",
   "source": [
    "Образуем когорты по неделям и добавим их к основной таблице"
   ],
   "metadata": {
    "collapsed": false,
    "pycharm": {
     "name": "#%% md\n"
    }
   }
  },
  {
   "cell_type": "code",
   "execution_count": 72,
   "metadata": {},
   "outputs": [
    {
     "data": {
      "text/plain": "     numbers_order  user_id          order_time            contragent  \\\n0             2430      802 2020-03-30 14:02:00  Анонимный покупатель   \n260           2817      802 2020-04-06 09:32:00    [Интернет магазин]   \n1             2431       76 2020-03-30 14:14:00       Ишбулатова Рина   \n2             2432       60 2020-03-30 14:29:00             Екатерина   \n3             2435      312 2020-03-30 14:41:00             Екатерина   \n...            ...      ...                 ...                   ...   \n2241   0000-000609     1106 2020-07-01 09:14:35            9268946162   \n2242   0000-000610      653 2020-07-01 10:58:13            9166415474   \n2244   0000-000612      423 2020-07-01 15:04:30            9153600886   \n2245   0000-000613      315 2020-07-01 15:10:06            9104659992   \n2250   0000-000619     1203 2020-07-01 18:30:03            9645212334   \n\n          cost     status     cohort  \n0     11480.54  Доставлен 2020-03-30  \n260   14200.34  Доставлен 2020-03-30  \n1      3485.35  Доставлен 2020-03-30  \n2      5354.98  Доставлен 2020-03-30  \n3      3126.84  Доставлен 2020-03-30  \n...        ...        ...        ...  \n2241   5778.51  Доставлен 2020-06-29  \n2242   9635.01  Доставлен 2020-06-29  \n2244   4456.34  Доставлен 2020-06-29  \n2245   5183.59  Доставлен 2020-06-29  \n2250   6232.90  Доставлен 2020-06-29  \n\n[2251 rows x 7 columns]",
      "text/html": "<div>\n<style scoped>\n    .dataframe tbody tr th:only-of-type {\n        vertical-align: middle;\n    }\n\n    .dataframe tbody tr th {\n        vertical-align: top;\n    }\n\n    .dataframe thead th {\n        text-align: right;\n    }\n</style>\n<table border=\"1\" class=\"dataframe\">\n  <thead>\n    <tr style=\"text-align: right;\">\n      <th></th>\n      <th>numbers_order</th>\n      <th>user_id</th>\n      <th>order_time</th>\n      <th>contragent</th>\n      <th>cost</th>\n      <th>status</th>\n      <th>cohort</th>\n    </tr>\n  </thead>\n  <tbody>\n    <tr>\n      <th>0</th>\n      <td>2430</td>\n      <td>802</td>\n      <td>2020-03-30 14:02:00</td>\n      <td>Анонимный покупатель</td>\n      <td>11480.54</td>\n      <td>Доставлен</td>\n      <td>2020-03-30</td>\n    </tr>\n    <tr>\n      <th>260</th>\n      <td>2817</td>\n      <td>802</td>\n      <td>2020-04-06 09:32:00</td>\n      <td>[Интернет магазин]</td>\n      <td>14200.34</td>\n      <td>Доставлен</td>\n      <td>2020-03-30</td>\n    </tr>\n    <tr>\n      <th>1</th>\n      <td>2431</td>\n      <td>76</td>\n      <td>2020-03-30 14:14:00</td>\n      <td>Ишбулатова Рина</td>\n      <td>3485.35</td>\n      <td>Доставлен</td>\n      <td>2020-03-30</td>\n    </tr>\n    <tr>\n      <th>2</th>\n      <td>2432</td>\n      <td>60</td>\n      <td>2020-03-30 14:29:00</td>\n      <td>Екатерина</td>\n      <td>5354.98</td>\n      <td>Доставлен</td>\n      <td>2020-03-30</td>\n    </tr>\n    <tr>\n      <th>3</th>\n      <td>2435</td>\n      <td>312</td>\n      <td>2020-03-30 14:41:00</td>\n      <td>Екатерина</td>\n      <td>3126.84</td>\n      <td>Доставлен</td>\n      <td>2020-03-30</td>\n    </tr>\n    <tr>\n      <th>...</th>\n      <td>...</td>\n      <td>...</td>\n      <td>...</td>\n      <td>...</td>\n      <td>...</td>\n      <td>...</td>\n      <td>...</td>\n    </tr>\n    <tr>\n      <th>2241</th>\n      <td>0000-000609</td>\n      <td>1106</td>\n      <td>2020-07-01 09:14:35</td>\n      <td>9268946162</td>\n      <td>5778.51</td>\n      <td>Доставлен</td>\n      <td>2020-06-29</td>\n    </tr>\n    <tr>\n      <th>2242</th>\n      <td>0000-000610</td>\n      <td>653</td>\n      <td>2020-07-01 10:58:13</td>\n      <td>9166415474</td>\n      <td>9635.01</td>\n      <td>Доставлен</td>\n      <td>2020-06-29</td>\n    </tr>\n    <tr>\n      <th>2244</th>\n      <td>0000-000612</td>\n      <td>423</td>\n      <td>2020-07-01 15:04:30</td>\n      <td>9153600886</td>\n      <td>4456.34</td>\n      <td>Доставлен</td>\n      <td>2020-06-29</td>\n    </tr>\n    <tr>\n      <th>2245</th>\n      <td>0000-000613</td>\n      <td>315</td>\n      <td>2020-07-01 15:10:06</td>\n      <td>9104659992</td>\n      <td>5183.59</td>\n      <td>Доставлен</td>\n      <td>2020-06-29</td>\n    </tr>\n    <tr>\n      <th>2250</th>\n      <td>0000-000619</td>\n      <td>1203</td>\n      <td>2020-07-01 18:30:03</td>\n      <td>9645212334</td>\n      <td>6232.90</td>\n      <td>Доставлен</td>\n      <td>2020-06-29</td>\n    </tr>\n  </tbody>\n</table>\n<p>2251 rows × 7 columns</p>\n</div>"
     },
     "execution_count": 72,
     "metadata": {},
     "output_type": "execute_result"
    }
   ],
   "source": [
    "def find_my_cohort(series):\n",
    "    for time in series:\n",
    "        time = time.date()\n",
    "        now = first.date()\n",
    "        week = pd.Timedelta('7 days')\n",
    "        for i in range(delta):\n",
    "            now += week\n",
    "            if now > time:\n",
    "                return pd.to_datetime(now - week)\n",
    "\n",
    "f_orders = data.groupby('user_id')['order_time'].agg(first_order=min)\n",
    "\n",
    "cohort = f_orders.groupby('user_id')['first_order'].agg(\n",
    "    cohort=find_my_cohort\n",
    ")\n",
    "\n",
    "merged_data = data.merge(cohort, how='inner', left_on='user_id', right_index=True)\n",
    "merged_data"
   ]
  },
  {
   "cell_type": "markdown",
   "source": [
    "Проверочка"
   ],
   "metadata": {
    "collapsed": false,
    "pycharm": {
     "name": "#%% md\n"
    }
   }
  },
  {
   "cell_type": "code",
   "execution_count": 71,
   "outputs": [
    {
     "data": {
      "text/plain": "                                            sum\nuser_id cohort     order_time                  \n0       2020-04-06 2020-04-12 14:45:00  7965.21\n                   2020-04-14 18:44:00  1704.58\n1       2020-05-04 2020-05-07 13:33:00  3624.19\n2       2020-05-11 2020-05-15 20:22:00  8040.45\n3       2020-04-27 2020-05-01 01:19:00  6643.00\n                   2020-05-12 23:22:00  9479.17\n4       2020-05-18 2020-05-21 16:06:00  5330.00\n                   2020-05-30 21:05:00  9213.86\n5       2020-05-25 2020-05-29 15:13:00  5706.94\n6       2020-06-01 2020-06-07 13:48:00  4080.15",
      "text/html": "<div>\n<style scoped>\n    .dataframe tbody tr th:only-of-type {\n        vertical-align: middle;\n    }\n\n    .dataframe tbody tr th {\n        vertical-align: top;\n    }\n\n    .dataframe thead th {\n        text-align: right;\n    }\n</style>\n<table border=\"1\" class=\"dataframe\">\n  <thead>\n    <tr style=\"text-align: right;\">\n      <th></th>\n      <th></th>\n      <th></th>\n      <th>sum</th>\n    </tr>\n    <tr>\n      <th>user_id</th>\n      <th>cohort</th>\n      <th>order_time</th>\n      <th></th>\n    </tr>\n  </thead>\n  <tbody>\n    <tr>\n      <th rowspan=\"2\" valign=\"top\">0</th>\n      <th rowspan=\"2\" valign=\"top\">2020-04-06</th>\n      <th>2020-04-12 14:45:00</th>\n      <td>7965.21</td>\n    </tr>\n    <tr>\n      <th>2020-04-14 18:44:00</th>\n      <td>1704.58</td>\n    </tr>\n    <tr>\n      <th>1</th>\n      <th>2020-05-04</th>\n      <th>2020-05-07 13:33:00</th>\n      <td>3624.19</td>\n    </tr>\n    <tr>\n      <th>2</th>\n      <th>2020-05-11</th>\n      <th>2020-05-15 20:22:00</th>\n      <td>8040.45</td>\n    </tr>\n    <tr>\n      <th rowspan=\"2\" valign=\"top\">3</th>\n      <th rowspan=\"2\" valign=\"top\">2020-04-27</th>\n      <th>2020-05-01 01:19:00</th>\n      <td>6643.00</td>\n    </tr>\n    <tr>\n      <th>2020-05-12 23:22:00</th>\n      <td>9479.17</td>\n    </tr>\n    <tr>\n      <th rowspan=\"2\" valign=\"top\">4</th>\n      <th rowspan=\"2\" valign=\"top\">2020-05-18</th>\n      <th>2020-05-21 16:06:00</th>\n      <td>5330.00</td>\n    </tr>\n    <tr>\n      <th>2020-05-30 21:05:00</th>\n      <td>9213.86</td>\n    </tr>\n    <tr>\n      <th>5</th>\n      <th>2020-05-25</th>\n      <th>2020-05-29 15:13:00</th>\n      <td>5706.94</td>\n    </tr>\n    <tr>\n      <th>6</th>\n      <th>2020-06-01</th>\n      <th>2020-06-07 13:48:00</th>\n      <td>4080.15</td>\n    </tr>\n  </tbody>\n</table>\n</div>"
     },
     "execution_count": 71,
     "metadata": {},
     "output_type": "execute_result"
    }
   ],
   "source": [
    "merged_data.groupby(['user_id', 'cohort', 'order_time'])['cost'].agg(sum='sum').head(10)"
   ],
   "metadata": {
    "collapsed": false,
    "pycharm": {
     "name": "#%%\n"
    }
   }
  },
  {
   "cell_type": "markdown",
   "metadata": {
    "pycharm": {
     "name": "#%% md\n"
    }
   },
   "source": [
    "Сумма и количество заказов с каждой когорты"
   ]
  },
  {
   "cell_type": "code",
   "execution_count": 80,
   "outputs": [
    {
     "data": {
      "text/plain": "                   sum  count\ncohort                       \n2020-03-30  2482592.81    328\n2020-04-06  1461762.09    152\n2020-04-13  1731400.41    195\n2020-04-20  1385941.59    140\n2020-04-27  1278451.19    154\n2020-05-04  1529718.08    195\n2020-05-11  1694811.04    217\n2020-05-18  1919379.60    244\n2020-05-25  1179710.01    168\n2020-06-01  1076462.52    148\n2020-06-08   872242.43    112\n2020-06-15   786975.19     96\n2020-06-22   519482.22     74\n2020-06-29   181033.39     28",
      "text/html": "<div>\n<style scoped>\n    .dataframe tbody tr th:only-of-type {\n        vertical-align: middle;\n    }\n\n    .dataframe tbody tr th {\n        vertical-align: top;\n    }\n\n    .dataframe thead th {\n        text-align: right;\n    }\n</style>\n<table border=\"1\" class=\"dataframe\">\n  <thead>\n    <tr style=\"text-align: right;\">\n      <th></th>\n      <th>sum</th>\n      <th>count</th>\n    </tr>\n    <tr>\n      <th>cohort</th>\n      <th></th>\n      <th></th>\n    </tr>\n  </thead>\n  <tbody>\n    <tr>\n      <th>2020-03-30</th>\n      <td>2482592.81</td>\n      <td>328</td>\n    </tr>\n    <tr>\n      <th>2020-04-06</th>\n      <td>1461762.09</td>\n      <td>152</td>\n    </tr>\n    <tr>\n      <th>2020-04-13</th>\n      <td>1731400.41</td>\n      <td>195</td>\n    </tr>\n    <tr>\n      <th>2020-04-20</th>\n      <td>1385941.59</td>\n      <td>140</td>\n    </tr>\n    <tr>\n      <th>2020-04-27</th>\n      <td>1278451.19</td>\n      <td>154</td>\n    </tr>\n    <tr>\n      <th>2020-05-04</th>\n      <td>1529718.08</td>\n      <td>195</td>\n    </tr>\n    <tr>\n      <th>2020-05-11</th>\n      <td>1694811.04</td>\n      <td>217</td>\n    </tr>\n    <tr>\n      <th>2020-05-18</th>\n      <td>1919379.60</td>\n      <td>244</td>\n    </tr>\n    <tr>\n      <th>2020-05-25</th>\n      <td>1179710.01</td>\n      <td>168</td>\n    </tr>\n    <tr>\n      <th>2020-06-01</th>\n      <td>1076462.52</td>\n      <td>148</td>\n    </tr>\n    <tr>\n      <th>2020-06-08</th>\n      <td>872242.43</td>\n      <td>112</td>\n    </tr>\n    <tr>\n      <th>2020-06-15</th>\n      <td>786975.19</td>\n      <td>96</td>\n    </tr>\n    <tr>\n      <th>2020-06-22</th>\n      <td>519482.22</td>\n      <td>74</td>\n    </tr>\n    <tr>\n      <th>2020-06-29</th>\n      <td>181033.39</td>\n      <td>28</td>\n    </tr>\n  </tbody>\n</table>\n</div>"
     },
     "execution_count": 80,
     "metadata": {},
     "output_type": "execute_result"
    }
   ],
   "source": [
    "group_by_cohort = merged_data.groupby('cohort')['cost'].agg(['sum', 'count']).head(20)\n",
    "group_by_cohort"
   ],
   "metadata": {
    "collapsed": false,
    "pycharm": {
     "name": "#%%\n"
    }
   }
  },
  {
   "cell_type": "markdown",
   "source": [
    "Видно что количество заказов падает, как и выручка <br/>\n",
    "Для наглядности сделаем график"
   ],
   "metadata": {
    "collapsed": false,
    "pycharm": {
     "name": "#%% md\n"
    }
   }
  },
  {
   "cell_type": "code",
   "execution_count": 95,
   "outputs": [
    {
     "data": {
      "text/plain": "<matplotlib.axes._subplots.AxesSubplot at 0x7f6b4cb10790>"
     },
     "execution_count": 95,
     "metadata": {},
     "output_type": "execute_result"
    },
    {
     "data": {
      "text/plain": "<Figure size 432x288 with 1 Axes>",
      "image/png": "[encoded data removed]"
     },
     "metadata": {
      "needs_background": "light"
     },
     "output_type": "display_data"
    }
   ],
   "source": [
    "group_by_cohort['sum'].plot()"
   ],
   "metadata": {
    "collapsed": false,
    "pycharm": {
     "name": "#%%\n"
    }
   }
  },
  {
   "cell_type": "code",
   "execution_count": 94,
   "outputs": [
    {
     "data": {
      "text/plain": "<matplotlib.axes._subplots.AxesSubplot at 0x7f6b4c91ebb0>"
     },
     "execution_count": 94,
     "metadata": {},
     "output_type": "execute_result"
    },
    {
     "data": {
      "text/plain": "<Figure size 432x288 with 1 Axes>",
      "image/png": "[encoded data removed]"
     },
     "metadata": {
      "needs_background": "light"
     },
     "output_type": "display_data"
    }
   ],
   "source": [
    "group_by_cohort['count'].plot()\n"
   ],
   "metadata": {
    "collapsed": false,
    "pycharm": {
     "name": "#%%\n"
    }
   }
  }
 ],
 "metadata": {
  "kernelspec": {
   "name": "pycharm-39264d6",
   "language": "python",
   "display_name": "PyCharm (Praktika)"
  },
  "language_info": {
   "codemirror_mode": {
    "name": "ipython",
    "version": 3
   },
   "file_extension": ".py",
   "mimetype": "text/x-python",
   "name": "python",
   "nbconvert_exporter": "python",
   "pygments_lexer": "ipython3",
   "version": "3.8.3"
  }
 },
 "nbformat": 4,
 "nbformat_minor": 1
}